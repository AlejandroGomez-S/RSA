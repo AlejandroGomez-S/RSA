{
  "nbformat": 4,
  "nbformat_minor": 0,
  "metadata": {
    "colab": {
      "name": "RSA.ipynb",
      "provenance": [],
      "authorship_tag": "ABX9TyNSDqriDuiMYtnrpL/cFYLa",
      "include_colab_link": true
    },
    "kernelspec": {
      "name": "python3",
      "display_name": "Python 3"
    }
  },
  "cells": [
    {
      "cell_type": "markdown",
      "metadata": {
        "id": "view-in-github",
        "colab_type": "text"
      },
      "source": [
        "<a href=\"https://colab.research.google.com/gist/AlejandroGomez-S/effdc6cb64823d98b6a09deb36611385/rsa.ipynb\" target=\"_parent\"><img src=\"https://colab.research.google.com/assets/colab-badge.svg\" alt=\"Open In Colab\"/></a>"
      ]
    },
    {
      "cell_type": "markdown",
      "metadata": {
        "id": "5DZFx1n5ijur",
        "colab_type": "text"
      },
      "source": [
        "#Algoritmo para RSA\n",
        "\n",
        "Oscar Alejandro Gómez Suarez\n",
        "\n",
        "El RSA por las siglas de sus creadores (Rivest, Shamir y Adleman), es sistema de cifrado de clave publica, que permite codificar elementos y estos permanescan en secreto aun cuando cualquiera pueda tener acceso a el mensaje cifrado.El sistema de clave publica basicamente funciona al dividir una clave en dos partes, un parte publca y otra privada. La clave publica se utiliza para cifrar el mensaje y la clave privada se utiliza para decifrar. Con esto se consigue que sea posible cifrar el mensaje a cualquier destinatario pues la clave de cifrado es publica, pero unicamente el destinatario será capaz de descifrar dicho mensaje. \n",
        "\n",
        "Las claves publica y privada se encuentran relacionadas y una se puede calcular al conocer la segunda, pero esto los algoritomos que se aplican y las caracteristicas de los numeros generados hacen que tenga un alto costo computacioal el decifrar las claves privadas a partir de las pulicas, esto ya se ver más adelante con el desarrollo del algoritmo.\n",
        "\n",
        "El RSA se basa en algunos resultados de la teoria de números más especifcamente los relacionados con arimetica modular de los cuales se utilizaran las siguientes ideas.\n",
        "\n",
        "\n",
        "*   $\\textbf{Relaciones de congruencia}$\n",
        "\n",
        "      La relación de congruenia $a (mod$ $n) \\equiv b (mod$ $n)$\n",
        "      Esto nos esta indicando a y b son congruentes modulo n, si al   dividir a entre n y b entre n, estos son cogruentes si tienen el mismo resto. La relación anterior se puede ver mas facil al escribir la cogruencia de la siguente manera: $x\\equiv y(mod$ $n)$, lo cual quiere decir que $x=y+kn$ para algun $k$ $\\in \\mathbb{Z}$. Sabienddo esto es posible redefinir la relación de congruencia inicial de la siguiente manera:\n",
        "\n",
        "      $x\\equiv a(mod$ $n)$ y $x\\equiv b(mod$ $n)$, al realizar los cambios se obtienen las siguientes expresiones:\n",
        "      \n",
        "      $x=a+nk_1$ y $x=b+nk_2$, para $k_1$ y $k_2$ $\\in \\mathbb{Z}$, al igualar las expresiones se obtiene lo siguiente:\n",
        "\n",
        "       $a+nk_1=b+nk_2$\n",
        "\n",
        "      $(a-b) = n(k_1-k_1) $, si $k_1-k_2=k$ se obtiene la siguiente forma de expresar la congruencia:\n",
        "\n",
        "       $(a-b) = nk $\n",
        "\n",
        "      De esta relación de congruencia tambien se obtiene un conjunto de numeros que se denota como $Z_n= ${$0,1....,n-1 $}, es decir que se esto unido con la definición de congruencia anterior, se forma un conjunto en donde los números se iran suceciendo dependiendo del $n$ escogido hasta que estos se repitan de nuevo, lo cual hace tambien que el número de elementos de este conjuto sea finito, y es lo que se conoce como un grupo cíclico.\n",
        "*  $\\textbf{Arimética modular}$ \n",
        "      \n",
        "      Los elementos dentro del conjunto $Z_n$ se comportan de manera similar  a los enteros en las operaciones de la suma, resta y multiplicación; teniendo en cuenta que al resultado final es necesario aplicarle el modulo. La operación de la división se debe menejar de manera diferente pues se debe partir del concepto de inversa multiplicativa, el cual se al ser multiplicado por un número da como resultado la unidad, si $a$\n",
        "es un numero perteneciente a $Z_n$, su  inverso multplicativo se denota como $a^{-1}$, y la multiplicación de estos dos numero se se indica como : $aa^{-1}=1(mod$ $n)$. Al ser la división una operación que se define como el inverso de la división, se puede pensar en la división como multiplicar por el inverso del numero por el cual se esta dividiendo: $\\frac{a}{b}=c$, se puede expresar como: $ab^{-1}=c$, y esta es la idea de la cual parte división en arimética modular.\n",
        "\n",
        "*   $\\textbf{Números primos}$ \n",
        "    \n",
        "    Un número primo $p$ es aquel que solo es divisible por si mismo y por la unidad. Un par de números $p$ y $q$ naturales son primos relativos o coprimos entre si cumplen con que el unico divisor entre ellos sea la unidad o lo que es lo mismo, el divisor entre ambos sea igual a 1 ($MCD(p,q)=1$). Algo a tener en cuenta es que un número primo será coprimo de todos los demás números menores a este. Esta idea se relaciona con el conjunto $Z_n$, pues en este grupo los unicos números que tienen inversa son aquellos que son primos relativos con $n$, es decir que en un grupo formado por $Z_p$, es decir formado por un número primo, todos los numeros $p-1$ que se encuentran en su interior tienen inversa.\n",
        "\n",
        "\n",
        "*   $\\textbf{Orden de un elemento}$\n",
        "    \n",
        "    El orden $e$ de un elemento $a$ perteneciente a $Z_n$, es el menor número con el cual se cumple que $a^{e}=1(mod$ $ n)$, es decir que la cantidad de veces por la cual se tiene que multiplicar el elemento $a$ para que se obtenga como resultado $1(mod$ $n)$, teniendo en cuenta que para que el orden exista el elemento escogido debe tener inversa en $Z_n$, lo cual como ya se vio anteriormente siempre se cumple si $n$ es un número primo. Una propiedad importante es que si $a$ $\\in Z_n$ y tiene orden $e$, $a^e=aa^{e-1}=1(mod$ $n)$, esto indica que $a^{e-1}$ es la inversa de $a$, esto por la división en arimética modular.\n",
        "\n",
        "\n",
        "*   $\\textbf{Función $\\varphi$ de Euler}$\n",
        "\n",
        "    Esta función permite determinar el número de enteros positivos coprimos a un entero dado, esta se define como: $\\varphi(r) =$#{$n \\in \\mathbb{N} |n \\leq r \\wedge MCD(r,n)=1$}. De esta definición es posible identificar una serie de caracterisitcas que serán importantes para el desarrollo del RSA:\n",
        "    * Si $p$ es un número primo, $\\varphi(p)=p-1$, esto debido a que si $p$ es un número primo todos los números naturales anteriores a este son coprimos con él.\n",
        "    * Si $r$ es un número resultado del producto de dos números $x$ y $y$ ($r=yx$), la función de Euler se puede escribir como $\\varphi(r)=\\varphi(x)\\varphi(y)$, esto debido a que si lo dos números son primos y estos se multiplican, el resultado solamente va a poder ser descompuesto en estos factores, por lo cual los números que seran comprimos con este son los mismos que son comprimos con el primer número multiplicados por los del segundo.Este resultado unido al del literal anterior se obtiene que si $r$ es el producto de dos números primos $q$ y $p$ ($r=pq$), entonces  $\\varphi(r)= (p-1)(q-1)$.\n",
        "\n",
        "\n",
        "Con estos elementos ya se puede empezar a desarrollar el algoritmo RSA en el cual se van a seguir las siguientes fases: primero se desarrollaran las claves tanto publicas como privadas, esto mediante la generación de números primos y la aplicación del la función $\\varphi$ de Euler. Una vez que se tengan las claves, se prosigue con la encriptación y por último la desencriptación; en cada uno de estos pasos se usaran los principios mencionados anteriormente.\n",
        "\n",
        "\n",
        "\n"
      ]
    },
    {
      "cell_type": "markdown",
      "metadata": {
        "id": "Qop6YePx0m-h",
        "colab_type": "text"
      },
      "source": [
        "# Generación de claves\n",
        "\n",
        "Lo primero a hacer es generar las claves que se usaran, para esto primero se generarán dos números a la azar desde lo cuales se se comenzara a buscar el siguente número primo, esto mediante el test de primalidad el cual parte del principio que dice que un numero $n$ es primo si ningún número inferior a $\\sqrt(n)$ es divisor de este.\n",
        "\n"
      ]
    },
    {
      "cell_type": "code",
      "metadata": {
        "id": "0zANF4NC4w39",
        "colab_type": "code",
        "colab": {}
      },
      "source": [
        "from  random import random\n",
        "import math  \n",
        "from math import sqrt\n",
        "\n",
        "# Genera un número random muy grande\n",
        "def numRandom():\n",
        "    return (math.ceil(random()*100000000000000000))\n",
        "\n",
        "# Verifica si el número dado es primo iterando en los posibles divisores\n",
        "def numeroPrimo(num):\n",
        "       if num < 2:\n",
        "           return False\n",
        "       for x in range(2, int(sqrt(num)) + 1):\n",
        "           if num % x == 0:\n",
        "               return False\n",
        "       return True\n",
        "\n",
        "# Halla el siguiente número primo iterando desde un número grande escogido al azar\n",
        "def hallarPrimo():\n",
        "    num = numRandom()\n",
        "    while True:\n",
        "        if(numeroPrimo(num)):\n",
        "            return num\n",
        "        else:\n",
        "            num = num+1"
      ],
      "execution_count": null,
      "outputs": []
    },
    {
      "cell_type": "markdown",
      "metadata": {
        "id": "2DL-Bxw-JdVW",
        "colab_type": "text"
      },
      "source": [
        "Ahora que se pueden generar números primos, se buscara generar dos que sean diferentes para multiplicarlos y obtener un numero $r$ que servira para más adelante generar las claves, de tal forma que $r=pq$. Este número $r$ que se genera es bastante grande y solo puede ser descompuesto en factores primos por los números primos $q$ y $p$."
      ]
    },
    {
      "cell_type": "code",
      "metadata": {
        "id": "IGFU4DpFJ9WO",
        "colab_type": "code",
        "colab": {
          "base_uri": "https://localhost:8080/",
          "height": 35
        },
        "outputId": "2d1f91bc-48c3-42a5-e28d-76664c98fe2f"
      },
      "source": [
        "# Función que comprueba que los dos números primos generados p y q sean diferentes (Lo cual se demora un tiempo porque los números son un poco grandes)\n",
        "def pyq():\n",
        "    num = [hallarPrimo()]\n",
        "    result = True\n",
        "    while result:\n",
        "        num.insert(1, hallarPrimo())\n",
        "        if (num[0] != num[1]):\n",
        "            result = False\n",
        "    return num\n",
        "num_pyq = pyq()\n",
        "\n",
        "# Permite hallar el numero R\n",
        "def hallarR(numeros):\n",
        "    return(numeros[0]*numeros[1])\n",
        "r = hallarR(num_pyq)  \n",
        "print(r)"
      ],
      "execution_count": null,
      "outputs": [
        {
          "output_type": "stream",
          "text": [
            "1810714962439982401917875542985249\n"
          ],
          "name": "stdout"
        }
      ]
    },
    {
      "cell_type": "markdown",
      "metadata": {
        "id": "ZOKUIS3TTY5b",
        "colab_type": "text"
      },
      "source": [
        "Una vez que se tiene el $r$ el paso siguiente es hallar el valor de la función $\\varphi$ de Euler de $r$, lo cual se simplifica pues como ya se habia señalado anteriormente $\\varphi(r)= (p-1)(q-1)$ y los números $p$ y $q$ aun se encuentra almacencados en una variable."
      ]
    },
    {
      "cell_type": "code",
      "metadata": {
        "id": "652GjuyzV67o",
        "colab_type": "code",
        "colab": {
          "base_uri": "https://localhost:8080/",
          "height": 35
        },
        "outputId": "73016b91-6f91-4d68-9384-2246a7015010"
      },
      "source": [
        "# Halla phi de r\n",
        "def phiR(numeros):\n",
        "  return((numeros[0]-1)*(numeros[1]-1))\n",
        "num_phiR = phiR(num_pyq)\n",
        "print(num_phiR)"
      ],
      "execution_count": null,
      "outputs": [
        {
          "output_type": "stream",
          "text": [
            "1810714962439982291145565010628864\n"
          ],
          "name": "stdout"
        }
      ]
    },
    {
      "cell_type": "markdown",
      "metadata": {
        "id": "1QQlYc-_Y8wl",
        "colab_type": "text"
      },
      "source": [
        "Una vez hecho esto es necesario hallar un número $e$ que sea menor de $\\varphi(r)$ y que además sea coprimo con este. Para hallar este número sera necesario utilizar la parte simplificada del algoritmo de Euclides el cual nos permite hallar el $MCD$ entre dos números y si este es $1$ se puede saber que estos son coprimos. Este resultado surge de los siguietes enunciados:\n",
        "* $MCD(a,b)=MCD(b,a)$\n",
        "* Si $a>0$  y  $a|b$, entonces $MCD(a,b)=a$ \n",
        "* Si $a\\equiv c(mod$ $b)$, entonces $MCD(a,b)=MCD(c,b)$   \n",
        "\n",
        "El tercero de los resultados es el más importante pues dice que el $MCD$ entre dos números congruentes es igual al $MCD$ entre el numero menor de los dos y el residuo de dividir el más grande entre el menor. Al implementar este algoritmo es posible determinar el número $e$, el cual para este algoritmo se hara buscando un número coprimo de $r$ al iterar desde un número menor que $r$. A este número $e$ es necesario calcularle su inversa en modulo $\\varphi(r)$, a este nuevo número se le llamará d, ($d = e^{-1}(mod $ $ \\varphi(r)))$ lo cual tambien puede ser visto como $ed = 1(mod $ $ \\varphi(r))$. Este numero junto con $r$ seran los que compongan la clave privada y la razón de su calculo se explicara más adelante. \n",
        "\n"
      ]
    },
    {
      "cell_type": "code",
      "metadata": {
        "id": "0NnVxCN8e1wO",
        "colab_type": "code",
        "colab": {
          "base_uri": "https://localhost:8080/",
          "height": 35
        },
        "outputId": "36c6a67e-f8de-40bd-bb18-e00d8fc7a929"
      },
      "source": [
        "# Función que permite determinar el maximo comun diviso de dos números\n",
        "def mcd(mayor, menor):\n",
        "    result = 0\n",
        "    while (menor!= 0):\n",
        "        result = menor\n",
        "        menor = mayor % menor\n",
        "        mayor = result\n",
        "    return result\n",
        "\n",
        "# Función que permite hallar el número e relacionado con phi de r\n",
        "def hallarEdeR(numeroPhiR):\n",
        "    inicio = math.ceil(numeroPhiR/321651321)\n",
        "    while True:\n",
        "        if(mcd(numeroPhiR,inicio) == 1):\n",
        "            return inicio\n",
        "        else:\n",
        "            inicio = inicio+1    \n",
        "num_e = hallarEdeR(num_phiR)\n",
        "print(num_e)\n"
      ],
      "execution_count": null,
      "outputs": [
        {
          "output_type": "stream",
          "text": [
            "5629434248274025155395585\n"
          ],
          "name": "stdout"
        }
      ]
    },
    {
      "cell_type": "markdown",
      "metadata": {
        "id": "90HnYpaUCmKh",
        "colab_type": "text"
      },
      "source": [
        "\n",
        "Para realizar el calculo de $d$, se recurrira a los pricipios de la arimética modúlar ya mencionado anteriormente y el algoritmo extentendido de euclides el cual dice que el maximo común divisor de un par de números $a$ y $b$ puede ser escrito como la combinación lineal de estos es decir $MCD(a,b)=ax+by$, para un par de numeros $x$, $y\\in \\mathbb{Z}$. Esta relación surge de que dado un numero $s=MCD(a,b)$ y además dos números $b=b's$ y $a=a's$, esto quiere dicir que ambos son multiplos de $s$. De las propiedades del algoritmo de  Euclides se puede deducir que $xa+yb=xa's+yb's=(xa'+yb')s=c$, esto indica que la solución unicamente va a existir cuando $s$ divide a $c$. Con este resultado lo que queda es buscar el número $d$ que como se vio en las propiedades de la arimética modular, este es el númerpo el cual es necesario multiplicar $e$ para que el resultado sea $1(mod$ $\\varphi(r))$. Aquí es necesario ver que por las propiedades de la arimética modular el número $e$ en el grupo $z_{\\varphi(r)}$, siempre va a tener inversa pues estos dos números son coprimos.\n",
        "\n"
      ]
    },
    {
      "cell_type": "code",
      "metadata": {
        "id": "qhI5MyPQGTh5",
        "colab_type": "code",
        "colab": {
          "base_uri": "https://localhost:8080/",
          "height": 35
        },
        "outputId": "3d8b1577-c0c5-46c8-8d49-6f56dd82e27b"
      },
      "source": [
        "# Función que permite determinar la inversa modular\n",
        "def hallarNumD(numE,numphiR):\n",
        "    var1 = numphiR\n",
        "    x = 1\n",
        "    y = 0\n",
        "    while numE > 1:\n",
        "        div = math.floor(numE/numphiR)\n",
        "        var2 = numphiR\n",
        "        numphiR = numE % numphiR\n",
        "        numE = var2\n",
        "        var2 = y\n",
        "        y = x - div*y\n",
        "        x = var2\n",
        "    if x < 0:\n",
        "        x = x+var1\n",
        "    return x\n",
        "num_d = hallarNumD(num_e,num_phiR)    \n",
        "print(num_d)\n"
      ],
      "execution_count": null,
      "outputs": [
        {
          "output_type": "stream",
          "text": [
            "864553153477475123166622475801345\n"
          ],
          "name": "stdout"
        }
      ]
    },
    {
      "cell_type": "markdown",
      "metadata": {
        "id": "B1q8y8D_Cjs-",
        "colab_type": "text"
      },
      "source": [
        "#Funcionamiento algoritmo\n",
        "\n",
        "Para realizar la codificación es necesario avanzar en algunas propiedades de el orden de un elemento en un grupo cíclico, como ya se habia visto anteriormente el orden de un elemento es el número de $e$ veces por el cual debe ser multiplicado un elemento $a$ en $Z_n$ para que su resultado sea $1(mod $ $n)$, como se puede pesar en una sucesión como la siguiente: $a^0(mod$ $n)$, $a^1(mod$ $n)$... y a así sucesivamente hasta que en algún punto se llega a la potencia $e$ de la siguiente manera: $a^e(mod$ $n)=1(mod$ $n)$, como se puede observar este conjunto de sucesiones genera un conjunto de elementos que no se repiten antes de que aparezca el $1$ y vuelva a comenzar la suceción, esto quiere decir que este conjunto tiene exactamente $e$ elementos.\n",
        "\n",
        " Como puede suceder que al elevar un algún elemento de $Z_n$ a todas las potencias posibles, el grupo resultante no sea exactamente todo $Z_n$, se puede suponer que un elemento $b$ es uno de estos que no se encuentra en le conjunto generado por $a$ elevado a la sucesón de exponentes, al multiplicar cada uno de los elementos del conjunto por $b$, se obtiene un nuevo conjunto de resultados ,de lo cuales ninguno de los elementos pertenenecen al conjunto incial, porque de así serlo significaria que $b$ es divisor de $a$, lo cual no es posible pues ya se habia dicho que este no pertencia a ese primer conjunto, estos dos conjuntos ya estan más cerca de generar todo $Z_n$ sino esque ya lo estan haciendo, y al unirlos se obtiene que su tamaño es $2e$, pues como ya se dijo, cada uno de los elementos del primer conjunto se multiplica por este nuevo elmento. Al continuar con el proceso y seguir multiplicando el conjunto inicial por cada uno de los elementos que pertenecen a $Z_n$ pero no a el este y uniendolos, se puede llegar a un conjunto que contendrá todos lo elementos de $Z_n$ y el cual no tendra elementos repetidos y ademas tendra de un tamaño de $\\lambda e$, siendo $\\lambda$ el número de veces que se tiene que repetir el proceso para igualar a los elementos de $Z_n$, esto indica que $\\varphi(n)=\\lambda e$, al ver esta igualdad es posible percatarse que $\\lambda| \\varphi(n)$.\n",
        " \n",
        "  Del resultado anterior se puede avanzar más y ver que $a^{\\varphi(n)}(mod $ $n)=a^{\\lambda e}(mod$ $n)$, lo cual tambien puede ser expresado de la siguiente manera: $a^{e^{\\lambda}}(mod $ $n)$, como ya se sabe que $a^e=1(mod $ $n)$, la expresión anterior se transforma en $1^{\\lambda}(mod $ $n)$, como $1$ elevado a cualquier potencia da como resultado el mismo $1$ la expresión resultante es $1 (mod$ $ n)$, lo cual se conoce como el teorema de Euler.\n",
        "\n",
        "\n",
        "\n"
      ]
    },
    {
      "cell_type": "markdown",
      "metadata": {
        "id": "dNtzUmu6lI_o",
        "colab_type": "text"
      },
      "source": [
        "En este punto ya se tiene los elementos básicos de para realizar el encriptado y desencriptado de la información, pues ya se tiene el conjunto de claves privadas $(d,r)$ y las claves publicas $(e,r)$; para realizar la encriptación es necesario revisar que es lo que hace posible que todo el sistema funcione. Para empezar es necesario suponer que existe un número $t$ que cumpla la siguiente igualdad: $t(mod $ $ \\varphi(n))\\equiv 1(mod $ $ \\varphi(n))$, y ahora se dirá que para cualquier número $x$ se cumplirá que $x^t(mod $ $n)=x(mod$ $ n)$, es decir que al multiplicar $x$, un número de $t$ veces se obtiene el mismo resultado bajo el modulo $n$. Para ver esto se puede reescribir de la siguiente manera $t = \\lambda \\varphi(n)+1$ (esto proveniente de las relaciones de congruencia observadas al comienzo), ya con esto se puede reescribrir la ecuación dando como resultado lo siguiente $x^t(mod $ $ n) = x^{\\lambda \\varphi(n)+1}(mod $ $ n)=x(mod $ $ n)*x^{\\varphi(n)^{\\lambda}}(mod $ $ n)$. Como se sabe que el número $x$ puede ser escrito en sus factores primos de la siguiente manera $x=p_1^\\alpha...p_r^\\beta q^\\lambda$, esto nos permite reescribir $x$ de la siguienete manera si se eleva esta a $\\varphi(n)$ en modulo $n$, con lo cual se obtiene que $x^{\\varphi(n)} (mod$ $ n)\\equiv p_1^{\\alpha \\varphi(n)}...p_r^{\\beta \\varphi(n)} q^{\\lambda \\varphi(n)}(mod$ $n) $, para cualquier $p_i$ se sabe sabe que cada uno es diferentes del otro pues estos números son primos, lo cual quiere decir que cualquier $p$ es invertible en el modulo $n$, pues $MCD(p,n) = 1$, o lo que es lo mismo $p_i^{\\varphi(n)}(mod $ $ n)= 1(mod $ $ n)$. Al utilizar este nuevo resultado en la equivalencia inicial llega a que $x^t(mod $ $ n)\\equiv  p_1^{\\alpha_1}...p_r^{\\alpha_r} (p^t)^\\beta (q^t)^\\lambda (mod$ $n) $. \n",
        "\n",
        "Otra de las caracteristicas importantes es que $p^t(mod$ $q)\\equiv p(mod$ $q)$, esto debido a que usando el teorema de Euler $p^{\\varphi(n)}(mod $ $q)=1(mod$ $q)$, al elevar a $\\lambda \\varphi(p)$ se obtiene $p^{\\lambda \\varphi(p) \\varphi(q)}(mod$ $q)=1^{\\lambda \\varphi(p)}(mod $ $q) = 1(mod $ $ q)$. Si se dice que $pq=n$ y se simplifica la equivalencia, la expresión se transforma en $p^{\\lambda \\varphi(p) \\varphi(q) +1}(mod $ $n) = p^t(mod $ $n)=p(mod $ $n)$; de la misma manera si se escoge en esta ocasión el número primo $q$ en vez de $p$ se obtiene que $q^t(mod $ $n)=q(mod $ $n)$. Este es un resultado importante que al adicionarlo a la sección inicial de esta sección se ontiene que $x^t(mod $ $n)= p_1^\\alpha...p_r^\\beta q^\\lambda(mod $ $n)=x(mod $ $n)$.Ya con esto es posible pasar a la parte de encriptación y desencriptación"
      ]
    },
    {
      "cell_type": "markdown",
      "metadata": {
        "id": "D5K-YVjVYzKp",
        "colab_type": "text"
      },
      "source": [
        "#Encriptación y desencriptación\n",
        "Para codificar el mensaje (que en este caso es un número), es necesario elevar el mensaje $x$ a el número $e$ en modulo $r$ que como ya se habia visto estos dos números hacen parte de la clave publica por lo cual el mensaje encriptado es $encriptado=x^e(mod$ $r)=y$, y como ya se habia en la anterior sección la forma para llegar al número $x$ inicial es el elevar al inverso de $e$ en modulo $r$, $desencriptado=y^d(mod$ $r)=x$. De esta manera se puede obtener el mensaje inicial de forma segura, para hacer esto posible es necesario utilizar las propiedades de la arimetica modular de manera que se consigan elevar los mensajes a exponentes muy grandes y que este sea un proceso viable de computar, esto se logra al dividir el exponente en potencias de $2$ con lo cual este se termina rescribiendo en binario y despues se hallan cada uno los siguientes cuadrados sucesivos en el modulo $r$, y despues se multiplican estos cuadrados si el digito en binario correspondiente es $1$. "
      ]
    },
    {
      "cell_type": "code",
      "metadata": {
        "id": "jJG7ZMb879sB",
        "colab_type": "code",
        "colab": {}
      },
      "source": [
        "# Función que encripta el mensaje x\n",
        "def encrip(x,e,n):\n",
        "    return powmod(x,e,n)\n",
        "\n",
        "# Función que desencripta el mensaje y\n",
        "def desencrip(y,d,n):\n",
        "    return powmod(y,d,n)\n",
        "\n",
        "# Función recuperada que calcula el exponente modular, (el operador \"\">>\" convierte a binario los números), esta es ineecesaria pues se puede usar pow(a,b,c)\n",
        "def powmod(a,e,n):\n",
        "    accum = 1; i = 0; apow2 = a\n",
        "    while ((e>>i)>0):\n",
        "        if ((e>>i) & 1):\n",
        "            accum = (accum*apow2) % n\n",
        "        apow2 = (apow2*apow2) % n\n",
        "        i += 1\n",
        "    return accum"
      ],
      "execution_count": null,
      "outputs": []
    },
    {
      "cell_type": "markdown",
      "metadata": {
        "id": "I-QNtQFr8kcg",
        "colab_type": "text"
      },
      "source": [
        "Ahora ya solo basta con pedir un mensaje a encriptar para despues desencriptarlo (teniendo en cuenta que el número ingresado no puede mayor al número r)"
      ]
    },
    {
      "cell_type": "code",
      "metadata": {
        "id": "FyrJl3aG9DBH",
        "colab_type": "code",
        "colab": {
          "base_uri": "https://localhost:8080/",
          "height": 109
        },
        "outputId": "40aa7c14-ed7c-4416-d41c-848ae3f6d834"
      },
      "source": [
        "# Teniendo en cuenta que para el correcto funcionamiento es necesario correr todos bloques de codigo\n",
        "\n",
        "x = input('Ingrese el número a encriptar \\n')\n",
        "print('El mensaje es:   '+x)\n",
        "enc = encrip(int(x),num_e,r)\n",
        "print('El número encriptado es:   '+str(enc))\n",
        "des = desencrip(enc,num_d,r)\n",
        "print('El número desencriptado es:    '+str(des))"
      ],
      "execution_count": null,
      "outputs": [
        {
          "output_type": "stream",
          "text": [
            "Ingrese el número a encriptar \n",
            "665212365513\n",
            "El mensaje es:   665212365513\n",
            "El número encriptado es:   1786380251409651738171659690844714\n",
            "El número desencriptado es:    665212365513\n"
          ],
          "name": "stdout"
        }
      ]
    },
    {
      "cell_type": "markdown",
      "metadata": {
        "id": "xauEDIAc_O-5",
        "colab_type": "text"
      },
      "source": [
        "Este metodo de encriptación es efectivo por el hecho de que aunque se tengan pistas de la forma en la que fue encriptado el mensaje es decir las claves publicas, no es posible el conocer el mensaje pues para esto es necesario conocer la inversa de $e$, en el modulo $\\varphi(r)$, pero este ultimo no hace parte de la llave publica por lo que este tendria que ser calculado a partir de $r$, sin embargo, como se vio inicialmente para conocer este es necesario tener los factores primos de los cuales es producto, es decir que se tendrian que descomponer en fatores primos, lo cual es un problema computacionalmente muy complejo (NP-completo, exponencial), lo cual indica que para llegar a realizar esa factorización se necesitaria mucho tiempo, al ser este un ejercicio academico tal vez la factorzación no toma anto tiempo,pero en sistemas reales se utilizan números primos de al menos $200$ digitos."
      ]
    }
  ]
}